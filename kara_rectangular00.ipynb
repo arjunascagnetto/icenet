{
 "cells": [
  {
   "cell_type": "code",
   "id": "ecdf06bc624f68b6",
   "metadata": {
    "ExecuteTime": {
     "end_time": "2025-05-06T09:06:14.211598Z",
     "start_time": "2025-05-06T09:06:13.794942Z"
    }
   },
   "source": [
    "# generate_kara_rect_masks.py\n",
    "# ----------------------------------\n",
    "# Crea active_grid_cell_mask_01‑12.npy limitate al rettangolo voluto.\n",
    "\n",
    "import os\n",
    "import numpy as np\n",
    "from pyproj import Transformer\n",
    "from icenet.data.sic.mask import Masks\n",
    "\n",
    "# --- parametri --------------------------------------------------------------\n",
    "hemi      = \"north\"                                  # emisfero\n",
    "mask_dir  = f\"./data/masks/{hemi}/masks\"             # cartella IceNet\n",
    "lon_min, lon_max =  60.0, 105.0                      # °E\n",
    "lat_min, lat_max =  68.0,  82.0                      # °N\n",
    "# ----------------------------------------------------------------------------\n",
    "\n",
    "os.makedirs(mask_dir, exist_ok=True)"
   ],
   "outputs": [],
   "execution_count": 1
  },
  {
   "metadata": {
    "ExecuteTime": {
     "end_time": "2025-05-06T09:06:25.522205Z",
     "start_time": "2025-05-06T09:06:25.515745Z"
    }
   },
   "cell_type": "code",
   "source": [
    "\n",
    "# 1 · griglia centri‑cella EASE‑2 North (433 000 m / passo 25 km → 432 px)\n",
    "shape = (432, 432)\n",
    "step  = 25_000\n",
    "cols  = np.arange(shape[1]) - shape[1]/2 + 0.5\n",
    "rows  = np.arange(shape[0]) - shape[0]/2 + 0.5\n",
    "x_coords =  cols * step                            # metri\n",
    "y_coords = -rows * step                            # inverti asse y\n",
    "xc, yc   = np.meshgrid(x_coords, y_coords, indexing=\"xy\")"
   ],
   "id": "7734790126413ef",
   "outputs": [],
   "execution_count": 2
  },
  {
   "metadata": {
    "ExecuteTime": {
     "end_time": "2025-05-06T09:06:36.317260Z",
     "start_time": "2025-05-06T09:06:36.234567Z"
    }
   },
   "cell_type": "code",
   "source": [
    "\n",
    "# 2 · converte tutti i punti in lat/lon (EPSG:6931 → WGS84)\n",
    "transform = Transformer.from_crs(\"EPSG:6931\", \"EPSG:4326\", always_xy=True)\n",
    "lon, lat  = transform.transform(xc, yc)            # array 432×432\n",
    "\n",
    "# 3 · rettangolo Kara: mask True se dentro i limiti\n",
    "rect_mask = (\n",
    "    (lon >= lon_min) & (lon <= lon_max) &\n",
    "    (lat >= lat_min) & (lat <= lat_max)\n",
    ")"
   ],
   "id": "5509f7eb11527c53",
   "outputs": [],
   "execution_count": 3
  },
  {
   "metadata": {
    "ExecuteTime": {
     "end_time": "2025-05-06T09:08:25.016269Z",
     "start_time": "2025-05-06T09:08:24.987123Z"
    }
   },
   "cell_type": "code",
   "source": [
    "\n",
    "# 4 · interseca con le maschere mensili base e salva\n",
    "m = Masks(north=True, south=False)                 # solo per caricare path\n",
    "for mm in range(1, 13):\n",
    "    p = os.path.join(mask_dir, f\"active_grid_cell_mask_{mm:02d}.npy\")\n",
    "    base = np.load(p)\n",
    "    pout = os.path.join(mask_dir, f\"active_grid_cell_mask_{mm:02d}_rect.npy\")\n",
    "    np.save(pout, base & rect_mask)\n",
    "\n",
    "print(\"Nuove maschere rettangolari salvate in\", mask_dir)\n"
   ],
   "id": "initial_id",
   "outputs": [
    {
     "name": "stdout",
     "output_type": "stream",
     "text": [
      "Nuove maschere rettangolari salvate in data/masks/north/masks\n"
     ]
    }
   ],
   "execution_count": 6
  },
  {
   "metadata": {
    "ExecuteTime": {
     "end_time": "2025-05-06T09:08:28.726104Z",
     "start_time": "2025-05-06T09:08:28.559033Z"
    }
   },
   "cell_type": "code",
   "source": [
    "import os\n",
    "import numpy as np\n",
    "import matplotlib.pyplot as plt\n",
    "\n",
    "# ⇩⇩  METTI QUI IL PERCORSO CORRETTO  ⇩⇩\n",
    "mask_dir = \"data/masks/north/masks\"\n",
    "\n",
    "for mm in range(1, 2):\n",
    "    mask_path = os.path.join(mask_dir, f\"active_grid_cell_mask_{mm:02d}_rect.npy\")\n",
    "    if not os.path.isfile(mask_path):\n",
    "        print(f\"Non trovato: {mask_path}\")\n",
    "        continue\n",
    "\n",
    "    mask = np.load(mask_path)\n",
    "\n",
    "    # figura singola, nessun subplot\n",
    "    plt.figure()\n",
    "    plt.imshow(mask, origin=\"lower\")\n",
    "    plt.title(f\"Mare di Kara – maschera {mm:02d}\")\n",
    "    plt.axis(\"off\")\n",
    "    plt.show()"
   ],
   "id": "f7bcaafb88a18f64",
   "outputs": [
    {
     "data": {
      "text/plain": [
       "<Figure size 640x480 with 1 Axes>"
      ],
      "image/png": "[encoded data removed]"
     },
     "metadata": {},
     "output_type": "display_data"
    }
   ],
   "execution_count": 7
  },
  {
   "metadata": {
    "ExecuteTime": {
     "end_time": "2025-05-06T09:09:05.129867Z",
     "start_time": "2025-05-06T09:09:05.118432Z"
    }
   },
   "cell_type": "code",
   "source": "np.count_nonzero(mask == 1)",
   "id": "7bb129dc245991d4",
   "outputs": [
    {
     "data": {
      "text/plain": [
       "1575"
      ]
     },
     "execution_count": 8,
     "metadata": {},
     "output_type": "execute_result"
    }
   ],
   "execution_count": 8
  },
  {
   "metadata": {},
   "cell_type": "code",
   "outputs": [],
   "execution_count": null,
   "source": "",
   "id": "fb75dab10ad7f95e"
  }
 ],
 "metadata": {
  "kernelspec": {
   "display_name": "Python 3",
   "language": "python",
   "name": "python3"
  },
  "language_info": {
   "codemirror_mode": {
    "name": "ipython",
    "version": 2
   },
   "file_extension": ".py",
   "mimetype": "text/x-python",
   "name": "python",
   "nbconvert_exporter": "python",
   "pygments_lexer": "ipython2",
   "version": "2.7.6"
  }
 },
 "nbformat": 4,
 "nbformat_minor": 5
}
